{
 "cells": [
  {
   "cell_type": "code",
   "execution_count": 16,
   "metadata": {},
   "outputs": [],
   "source": [
    "\n",
    "%matplotlib inline\n",
    "import warnings\n",
    "warnings.filterwarnings('ignore')\n",
    "import pandas as pd\n",
    "import numpy as np\n",
    "import matplotlib.pyplot as plt\n",
    "from matplotlib import rcParams\n",
    "from sklearn.utils import check_array, safe_indexing, sparsefuncs_fast, check_X_y, check_random_state\n",
    "from sklearn.preprocessing import OneHotEncoder\n",
    "from scipy import sparse\n",
    "from sklearn.neighbors import NearestNeighbors\n",
    "from sklearn.base import clone\n",
    "from numbers import Integral\n",
    "from sklearn.svm import SVC\n",
    "from collections import Counter\n",
    "import seaborn as sns\n",
    "from sklearn.model_selection import train_test_split\n",
    "from imblearn.over_sampling import SMOTE, SMOTENC, SVMSMOTE\n",
    "import os\n",
    "# import missingpy as missingpy\n",
    "from pathlib import Path\n",
    "from sklearn.ensemble import RandomForestClassifier\n",
    "from sklearn.model_selection import GridSearchCV \n",
    "from sklearn.metrics import classification_report\n",
    "from sklearn.model_selection import StratifiedKFold\n",
    "import pickle\n",
    "from imblearn.pipeline import Pipeline, make_pipeline\n",
    "from sklearn.preprocessing import LabelEncoder\n",
    "from sklearn.preprocessing import StandardScaler\n",
    "from imblearn.under_sampling import RandomUnderSampler\n",
    "from sklearn.metrics import roc_curve, auc, precision_recall_curve, f1_score, roc_auc_score\n",
    "from sklearn.model_selection import cross_val_score\n",
    "from scipy import stats"
   ]
  },
  {
   "cell_type": "markdown",
   "metadata": {},
   "source": [
    "# Set folder paths for outputs"
   ]
  },
  {
   "cell_type": "code",
   "execution_count": 2,
   "metadata": {},
   "outputs": [],
   "source": [
    "os.chdir('..')\n",
    "REPO_ROOT = Path(os.getcwd())\n",
    "DATA = Path(REPO_ROOT / 'data')\n",
    "MODELS = Path(REPO_ROOT / 'model')\n",
    "REPORTS = Path(REPO_ROOT / 'reports' / 'forest 26')"
   ]
  },
  {
   "cell_type": "markdown",
   "metadata": {},
   "source": [
    "# Read the file"
   ]
  },
  {
   "cell_type": "code",
   "execution_count": 3,
   "metadata": {},
   "outputs": [],
   "source": [
    "df = pd.read_csv(DATA / 'covtype.data.gz', compression='gzip', header=None, sep=',', quotechar='\"', error_bad_lines=False)"
   ]
  },
  {
   "cell_type": "code",
   "execution_count": 4,
   "metadata": {},
   "outputs": [
    {
     "data": {
      "text/html": [
       "<div>\n",
       "<style scoped>\n",
       "    .dataframe tbody tr th:only-of-type {\n",
       "        vertical-align: middle;\n",
       "    }\n",
       "\n",
       "    .dataframe tbody tr th {\n",
       "        vertical-align: top;\n",
       "    }\n",
       "\n",
       "    .dataframe thead th {\n",
       "        text-align: right;\n",
       "    }\n",
       "</style>\n",
       "<table border=\"1\" class=\"dataframe\">\n",
       "  <thead>\n",
       "    <tr style=\"text-align: right;\">\n",
       "      <th></th>\n",
       "      <th>0</th>\n",
       "      <th>1</th>\n",
       "      <th>2</th>\n",
       "      <th>3</th>\n",
       "      <th>4</th>\n",
       "      <th>5</th>\n",
       "      <th>6</th>\n",
       "      <th>7</th>\n",
       "      <th>8</th>\n",
       "      <th>9</th>\n",
       "      <th>...</th>\n",
       "      <th>45</th>\n",
       "      <th>46</th>\n",
       "      <th>47</th>\n",
       "      <th>48</th>\n",
       "      <th>49</th>\n",
       "      <th>50</th>\n",
       "      <th>51</th>\n",
       "      <th>52</th>\n",
       "      <th>53</th>\n",
       "      <th>54</th>\n",
       "    </tr>\n",
       "  </thead>\n",
       "  <tbody>\n",
       "    <tr>\n",
       "      <th>0</th>\n",
       "      <td>2596</td>\n",
       "      <td>51</td>\n",
       "      <td>3</td>\n",
       "      <td>258</td>\n",
       "      <td>0</td>\n",
       "      <td>510</td>\n",
       "      <td>221</td>\n",
       "      <td>232</td>\n",
       "      <td>148</td>\n",
       "      <td>6279</td>\n",
       "      <td>...</td>\n",
       "      <td>0</td>\n",
       "      <td>0</td>\n",
       "      <td>0</td>\n",
       "      <td>0</td>\n",
       "      <td>0</td>\n",
       "      <td>0</td>\n",
       "      <td>0</td>\n",
       "      <td>0</td>\n",
       "      <td>0</td>\n",
       "      <td>5</td>\n",
       "    </tr>\n",
       "    <tr>\n",
       "      <th>1</th>\n",
       "      <td>2590</td>\n",
       "      <td>56</td>\n",
       "      <td>2</td>\n",
       "      <td>212</td>\n",
       "      <td>-6</td>\n",
       "      <td>390</td>\n",
       "      <td>220</td>\n",
       "      <td>235</td>\n",
       "      <td>151</td>\n",
       "      <td>6225</td>\n",
       "      <td>...</td>\n",
       "      <td>0</td>\n",
       "      <td>0</td>\n",
       "      <td>0</td>\n",
       "      <td>0</td>\n",
       "      <td>0</td>\n",
       "      <td>0</td>\n",
       "      <td>0</td>\n",
       "      <td>0</td>\n",
       "      <td>0</td>\n",
       "      <td>5</td>\n",
       "    </tr>\n",
       "    <tr>\n",
       "      <th>2</th>\n",
       "      <td>2804</td>\n",
       "      <td>139</td>\n",
       "      <td>9</td>\n",
       "      <td>268</td>\n",
       "      <td>65</td>\n",
       "      <td>3180</td>\n",
       "      <td>234</td>\n",
       "      <td>238</td>\n",
       "      <td>135</td>\n",
       "      <td>6121</td>\n",
       "      <td>...</td>\n",
       "      <td>0</td>\n",
       "      <td>0</td>\n",
       "      <td>0</td>\n",
       "      <td>0</td>\n",
       "      <td>0</td>\n",
       "      <td>0</td>\n",
       "      <td>0</td>\n",
       "      <td>0</td>\n",
       "      <td>0</td>\n",
       "      <td>2</td>\n",
       "    </tr>\n",
       "    <tr>\n",
       "      <th>3</th>\n",
       "      <td>2785</td>\n",
       "      <td>155</td>\n",
       "      <td>18</td>\n",
       "      <td>242</td>\n",
       "      <td>118</td>\n",
       "      <td>3090</td>\n",
       "      <td>238</td>\n",
       "      <td>238</td>\n",
       "      <td>122</td>\n",
       "      <td>6211</td>\n",
       "      <td>...</td>\n",
       "      <td>0</td>\n",
       "      <td>0</td>\n",
       "      <td>0</td>\n",
       "      <td>0</td>\n",
       "      <td>0</td>\n",
       "      <td>0</td>\n",
       "      <td>0</td>\n",
       "      <td>0</td>\n",
       "      <td>0</td>\n",
       "      <td>2</td>\n",
       "    </tr>\n",
       "    <tr>\n",
       "      <th>4</th>\n",
       "      <td>2595</td>\n",
       "      <td>45</td>\n",
       "      <td>2</td>\n",
       "      <td>153</td>\n",
       "      <td>-1</td>\n",
       "      <td>391</td>\n",
       "      <td>220</td>\n",
       "      <td>234</td>\n",
       "      <td>150</td>\n",
       "      <td>6172</td>\n",
       "      <td>...</td>\n",
       "      <td>0</td>\n",
       "      <td>0</td>\n",
       "      <td>0</td>\n",
       "      <td>0</td>\n",
       "      <td>0</td>\n",
       "      <td>0</td>\n",
       "      <td>0</td>\n",
       "      <td>0</td>\n",
       "      <td>0</td>\n",
       "      <td>5</td>\n",
       "    </tr>\n",
       "  </tbody>\n",
       "</table>\n",
       "<p>5 rows × 55 columns</p>\n",
       "</div>"
      ],
      "text/plain": [
       "     0    1   2    3    4     5    6    7    8     9   ...  45  46  47  48  \\\n",
       "0  2596   51   3  258    0   510  221  232  148  6279  ...   0   0   0   0   \n",
       "1  2590   56   2  212   -6   390  220  235  151  6225  ...   0   0   0   0   \n",
       "2  2804  139   9  268   65  3180  234  238  135  6121  ...   0   0   0   0   \n",
       "3  2785  155  18  242  118  3090  238  238  122  6211  ...   0   0   0   0   \n",
       "4  2595   45   2  153   -1   391  220  234  150  6172  ...   0   0   0   0   \n",
       "\n",
       "   49  50  51  52  53  54  \n",
       "0   0   0   0   0   0   5  \n",
       "1   0   0   0   0   0   5  \n",
       "2   0   0   0   0   0   2  \n",
       "3   0   0   0   0   0   2  \n",
       "4   0   0   0   0   0   5  \n",
       "\n",
       "[5 rows x 55 columns]"
      ]
     },
     "execution_count": 4,
     "metadata": {},
     "output_type": "execute_result"
    }
   ],
   "source": [
    "df.head()"
   ]
  },
  {
   "cell_type": "markdown",
   "metadata": {},
   "source": [
    "# The raw data is one-hot encoded. We reverse encoded the data, to have categorical features back"
   ]
  },
  {
   "cell_type": "markdown",
   "metadata": {},
   "source": [
    "### Prepare categorical column 'Wilderness_Area' from encoded column 10,11, 12 and 13"
   ]
  },
  {
   "cell_type": "code",
   "execution_count": 5,
   "metadata": {},
   "outputs": [],
   "source": [
    "df['Wilderness_Area'] = 999"
   ]
  },
  {
   "cell_type": "code",
   "execution_count": 6,
   "metadata": {},
   "outputs": [],
   "source": [
    "is_10_1 = df.iloc[:, 10] == 1\n",
    "is_11_1 = df.iloc[:, 11] == 1\n",
    "is_12_1 = df.iloc[:, 12] == 1\n",
    "is_13_1 = df.iloc[:, 13] == 1"
   ]
  },
  {
   "cell_type": "code",
   "execution_count": 7,
   "metadata": {},
   "outputs": [],
   "source": [
    "df.loc[is_10_1, 'Wilderness_Area'] = 0\n",
    "df.loc[is_11_1, 'Wilderness_Area'] = 1\n",
    "df.loc[is_12_1, 'Wilderness_Area'] = 2\n",
    "df.loc[is_13_1, 'Wilderness_Area'] = 3"
   ]
  },
  {
   "cell_type": "markdown",
   "metadata": {},
   "source": [
    "# Prepare categorical column 'Soil_Type' from encoded column 14 to 53"
   ]
  },
  {
   "cell_type": "code",
   "execution_count": 8,
   "metadata": {},
   "outputs": [],
   "source": [
    "Soil_Type_df = df.iloc[:, 14:54]"
   ]
  },
  {
   "cell_type": "code",
   "execution_count": 9,
   "metadata": {},
   "outputs": [],
   "source": [
    "def get_level(row):\n",
    "    for c in Soil_Type_df.columns:\n",
    "        if row[c]==1:\n",
    "            return c - 14\n",
    "        \n",
    "df['Soil_Type'] = df.apply(get_level, axis=1)"
   ]
  },
  {
   "cell_type": "code",
   "execution_count": 10,
   "metadata": {},
   "outputs": [
    {
     "data": {
      "text/plain": [
       "Counter({0: 260796, 2: 253364, 3: 36968, 1: 29884})"
      ]
     },
     "execution_count": 10,
     "metadata": {},
     "output_type": "execute_result"
    }
   ],
   "source": [
    "Counter(df.Wilderness_Area)"
   ]
  },
  {
   "cell_type": "code",
   "execution_count": 11,
   "metadata": {},
   "outputs": [],
   "source": [
    "columns_selected = [i for i in range(10)]"
   ]
  },
  {
   "cell_type": "code",
   "execution_count": 12,
   "metadata": {},
   "outputs": [],
   "source": [
    "columns_selected.extend(('Wilderness_Area', 'Soil_Type', 54))"
   ]
  },
  {
   "cell_type": "code",
   "execution_count": 13,
   "metadata": {},
   "outputs": [],
   "source": [
    "df = df[columns_selected]"
   ]
  },
  {
   "cell_type": "code",
   "execution_count": 14,
   "metadata": {},
   "outputs": [],
   "source": [
    "df.columns = ['Elevation', 'Aspect', 'Slope', 'Horizontal_Distance_To_Hydrology', 'Vertical_Distance_To_Hydrology',\n",
    "             'Horizontal_Distance_To_Roadways', 'Hillshade_9am', 'Hillshade_Noon', 'Hillshade_3pm', \n",
    "              'Horizontal_Distance_To_Fire_Points', 'Wilderness_Area', 'Soil_Type', 'Cover_Type']\n"
   ]
  },
  {
   "cell_type": "code",
   "execution_count": 17,
   "metadata": {},
   "outputs": [
    {
     "name": "stdout",
     "output_type": "stream",
     "text": [
      "[('Soil_Type', 0.0), ('Wilderness_Area', 0.0)]\n"
     ]
    }
   ],
   "source": [
    "anovap_value = list()\n",
    "for cols in ['Soil_Type', 'Wilderness_Area']:\n",
    "    statistic, p = stats.f_oneway(df[cols], df['Cover_Type'])\n",
    "    anovap_value.append(tuple([cols, p]))\n",
    "    \n",
    "print(anovap_value)"
   ]
  },
  {
   "cell_type": "code",
   "execution_count": 18,
   "metadata": {},
   "outputs": [
    {
     "name": "stdout",
     "output_type": "stream",
     "text": [
      "[('Soil_Type', 0.0), ('Wilderness_Area', 0.0)]\n"
     ]
    }
   ],
   "source": [
    "from scipy.stats import chi2_contingency\n",
    "chi2p_value = list()\n",
    "for cols in ['Soil_Type', 'Wilderness_Area']:\n",
    "    obs = pd.crosstab(df[cols], df['Cover_Type'])\n",
    "    g, p, dof, expctd = chi2_contingency(obs)\n",
    "    chi2p_value.append(tuple([cols, p]))\n",
    "    \n",
    "print(chi2p_value)"
   ]
  },
  {
   "cell_type": "code",
   "execution_count": 19,
   "metadata": {},
   "outputs": [
    {
     "data": {
      "text/html": [
       "<div>\n",
       "<style scoped>\n",
       "    .dataframe tbody tr th:only-of-type {\n",
       "        vertical-align: middle;\n",
       "    }\n",
       "\n",
       "    .dataframe tbody tr th {\n",
       "        vertical-align: top;\n",
       "    }\n",
       "\n",
       "    .dataframe thead th {\n",
       "        text-align: right;\n",
       "    }\n",
       "</style>\n",
       "<table border=\"1\" class=\"dataframe\">\n",
       "  <thead>\n",
       "    <tr style=\"text-align: right;\">\n",
       "      <th></th>\n",
       "      <th>Elevation</th>\n",
       "      <th>Aspect</th>\n",
       "      <th>Slope</th>\n",
       "      <th>Horizontal_Distance_To_Hydrology</th>\n",
       "      <th>Vertical_Distance_To_Hydrology</th>\n",
       "      <th>Horizontal_Distance_To_Roadways</th>\n",
       "      <th>Hillshade_9am</th>\n",
       "      <th>Hillshade_Noon</th>\n",
       "      <th>Hillshade_3pm</th>\n",
       "      <th>Horizontal_Distance_To_Fire_Points</th>\n",
       "      <th>Wilderness_Area</th>\n",
       "      <th>Soil_Type</th>\n",
       "      <th>Cover_Type</th>\n",
       "    </tr>\n",
       "  </thead>\n",
       "  <tbody>\n",
       "    <tr>\n",
       "      <th>0</th>\n",
       "      <td>2596</td>\n",
       "      <td>51</td>\n",
       "      <td>3</td>\n",
       "      <td>258</td>\n",
       "      <td>0</td>\n",
       "      <td>510</td>\n",
       "      <td>221</td>\n",
       "      <td>232</td>\n",
       "      <td>148</td>\n",
       "      <td>6279</td>\n",
       "      <td>0</td>\n",
       "      <td>28</td>\n",
       "      <td>5</td>\n",
       "    </tr>\n",
       "    <tr>\n",
       "      <th>1</th>\n",
       "      <td>2590</td>\n",
       "      <td>56</td>\n",
       "      <td>2</td>\n",
       "      <td>212</td>\n",
       "      <td>-6</td>\n",
       "      <td>390</td>\n",
       "      <td>220</td>\n",
       "      <td>235</td>\n",
       "      <td>151</td>\n",
       "      <td>6225</td>\n",
       "      <td>0</td>\n",
       "      <td>28</td>\n",
       "      <td>5</td>\n",
       "    </tr>\n",
       "    <tr>\n",
       "      <th>2</th>\n",
       "      <td>2804</td>\n",
       "      <td>139</td>\n",
       "      <td>9</td>\n",
       "      <td>268</td>\n",
       "      <td>65</td>\n",
       "      <td>3180</td>\n",
       "      <td>234</td>\n",
       "      <td>238</td>\n",
       "      <td>135</td>\n",
       "      <td>6121</td>\n",
       "      <td>0</td>\n",
       "      <td>11</td>\n",
       "      <td>2</td>\n",
       "    </tr>\n",
       "    <tr>\n",
       "      <th>3</th>\n",
       "      <td>2785</td>\n",
       "      <td>155</td>\n",
       "      <td>18</td>\n",
       "      <td>242</td>\n",
       "      <td>118</td>\n",
       "      <td>3090</td>\n",
       "      <td>238</td>\n",
       "      <td>238</td>\n",
       "      <td>122</td>\n",
       "      <td>6211</td>\n",
       "      <td>0</td>\n",
       "      <td>29</td>\n",
       "      <td>2</td>\n",
       "    </tr>\n",
       "    <tr>\n",
       "      <th>4</th>\n",
       "      <td>2595</td>\n",
       "      <td>45</td>\n",
       "      <td>2</td>\n",
       "      <td>153</td>\n",
       "      <td>-1</td>\n",
       "      <td>391</td>\n",
       "      <td>220</td>\n",
       "      <td>234</td>\n",
       "      <td>150</td>\n",
       "      <td>6172</td>\n",
       "      <td>0</td>\n",
       "      <td>28</td>\n",
       "      <td>5</td>\n",
       "    </tr>\n",
       "  </tbody>\n",
       "</table>\n",
       "</div>"
      ],
      "text/plain": [
       "   Elevation  Aspect  Slope  Horizontal_Distance_To_Hydrology  \\\n",
       "0       2596      51      3                               258   \n",
       "1       2590      56      2                               212   \n",
       "2       2804     139      9                               268   \n",
       "3       2785     155     18                               242   \n",
       "4       2595      45      2                               153   \n",
       "\n",
       "   Vertical_Distance_To_Hydrology  Horizontal_Distance_To_Roadways  \\\n",
       "0                               0                              510   \n",
       "1                              -6                              390   \n",
       "2                              65                             3180   \n",
       "3                             118                             3090   \n",
       "4                              -1                              391   \n",
       "\n",
       "   Hillshade_9am  Hillshade_Noon  Hillshade_3pm  \\\n",
       "0            221             232            148   \n",
       "1            220             235            151   \n",
       "2            234             238            135   \n",
       "3            238             238            122   \n",
       "4            220             234            150   \n",
       "\n",
       "   Horizontal_Distance_To_Fire_Points  Wilderness_Area  Soil_Type  Cover_Type  \n",
       "0                                6279                0         28           5  \n",
       "1                                6225                0         28           5  \n",
       "2                                6121                0         11           2  \n",
       "3                                6211                0         29           2  \n",
       "4                                6172                0         28           5  "
      ]
     },
     "execution_count": 19,
     "metadata": {},
     "output_type": "execute_result"
    }
   ],
   "source": [
    "df.head()"
   ]
  },
  {
   "cell_type": "code",
   "execution_count": 20,
   "metadata": {},
   "outputs": [],
   "source": [
    "df.drop_duplicates(inplace=True)"
   ]
  },
  {
   "cell_type": "code",
   "execution_count": 21,
   "metadata": {},
   "outputs": [
    {
     "data": {
      "text/plain": [
       "(581012, 13)"
      ]
     },
     "execution_count": 21,
     "metadata": {},
     "output_type": "execute_result"
    }
   ],
   "source": [
    "df.shape"
   ]
  },
  {
   "cell_type": "code",
   "execution_count": 22,
   "metadata": {},
   "outputs": [
    {
     "data": {
      "text/plain": [
       "Elevation                             0\n",
       "Aspect                                0\n",
       "Slope                                 0\n",
       "Horizontal_Distance_To_Hydrology      0\n",
       "Vertical_Distance_To_Hydrology        0\n",
       "Horizontal_Distance_To_Roadways       0\n",
       "Hillshade_9am                         0\n",
       "Hillshade_Noon                        0\n",
       "Hillshade_3pm                         0\n",
       "Horizontal_Distance_To_Fire_Points    0\n",
       "Wilderness_Area                       0\n",
       "Soil_Type                             0\n",
       "Cover_Type                            0\n",
       "dtype: int64"
      ]
     },
     "execution_count": 22,
     "metadata": {},
     "output_type": "execute_result"
    }
   ],
   "source": [
    "df.isnull().sum()"
   ]
  },
  {
   "cell_type": "code",
   "execution_count": 23,
   "metadata": {},
   "outputs": [
    {
     "data": {
      "text/plain": [
       "Counter({5: 9493, 2: 283301, 1: 211840, 7: 20510, 3: 35754, 6: 17367, 4: 2747})"
      ]
     },
     "execution_count": 23,
     "metadata": {},
     "output_type": "execute_result"
    }
   ],
   "source": [
    "Counter(df.Cover_Type)"
   ]
  },
  {
   "cell_type": "markdown",
   "metadata": {},
   "source": [
    "### There are 7 target labels of the dataset- 2 and 6 are randomly chosen among them(since this algorithm is built for binary classification)"
   ]
  },
  {
   "cell_type": "code",
   "execution_count": 24,
   "metadata": {},
   "outputs": [],
   "source": [
    "df = df.loc[df['Cover_Type'].isin([2, 6])]\n",
    "df['Cover_Type'].replace({2: 0, 6: 1},inplace = True)"
   ]
  },
  {
   "cell_type": "code",
   "execution_count": 25,
   "metadata": {},
   "outputs": [
    {
     "data": {
      "text/plain": [
       "39"
      ]
     },
     "execution_count": 25,
     "metadata": {},
     "output_type": "execute_result"
    }
   ],
   "source": [
    "len(df.Soil_Type.unique())"
   ]
  },
  {
   "cell_type": "code",
   "execution_count": 26,
   "metadata": {},
   "outputs": [
    {
     "data": {
      "text/plain": [
       "Counter({0: 283301, 1: 17367})"
      ]
     },
     "execution_count": 26,
     "metadata": {},
     "output_type": "execute_result"
    }
   ],
   "source": [
    "Counter(df.Cover_Type)"
   ]
  },
  {
   "cell_type": "code",
   "execution_count": 27,
   "metadata": {},
   "outputs": [],
   "source": [
    "df_feature= df.drop('Cover_Type',1)\n",
    "df_target= df[['Cover_Type']]\n",
    "df_feature.index = pd.RangeIndex(len(df_feature.index))\n",
    "df_target.index = pd.RangeIndex(len(df_target.index))"
   ]
  },
  {
   "cell_type": "code",
   "execution_count": 28,
   "metadata": {},
   "outputs": [],
   "source": [
    "col_list = list(df_feature.columns)"
   ]
  },
  {
   "cell_type": "code",
   "execution_count": 29,
   "metadata": {},
   "outputs": [],
   "source": [
    "## Apply standard scaler on the features , so that euclidean distance calculation in SMOTE is not biased\n",
    "sc = StandardScaler()\n",
    "df_feature = sc.fit_transform(df_feature)\n",
    "df_feature = pd.DataFrame(df_feature, index=range(df_feature.shape[0]),\n",
    "                          columns=col_list)"
   ]
  },
  {
   "cell_type": "code",
   "execution_count": 30,
   "metadata": {},
   "outputs": [
    {
     "data": {
      "text/html": [
       "<div>\n",
       "<style scoped>\n",
       "    .dataframe tbody tr th:only-of-type {\n",
       "        vertical-align: middle;\n",
       "    }\n",
       "\n",
       "    .dataframe tbody tr th {\n",
       "        vertical-align: top;\n",
       "    }\n",
       "\n",
       "    .dataframe thead th {\n",
       "        text-align: right;\n",
       "    }\n",
       "</style>\n",
       "<table border=\"1\" class=\"dataframe\">\n",
       "  <thead>\n",
       "    <tr style=\"text-align: right;\">\n",
       "      <th></th>\n",
       "      <th>Elevation</th>\n",
       "      <th>Aspect</th>\n",
       "      <th>Slope</th>\n",
       "      <th>Horizontal_Distance_To_Hydrology</th>\n",
       "      <th>Vertical_Distance_To_Hydrology</th>\n",
       "      <th>Horizontal_Distance_To_Roadways</th>\n",
       "      <th>Hillshade_9am</th>\n",
       "      <th>Hillshade_Noon</th>\n",
       "      <th>Hillshade_3pm</th>\n",
       "      <th>Horizontal_Distance_To_Fire_Points</th>\n",
       "      <th>Wilderness_Area</th>\n",
       "      <th>Soil_Type</th>\n",
       "    </tr>\n",
       "  </thead>\n",
       "  <tbody>\n",
       "    <tr>\n",
       "      <th>0</th>\n",
       "      <td>-0.399128</td>\n",
       "      <td>-0.134249</td>\n",
       "      <td>-0.670227</td>\n",
       "      <td>-0.023920</td>\n",
       "      <td>0.336208</td>\n",
       "      <td>0.515973</td>\n",
       "      <td>0.822781</td>\n",
       "      <td>0.705092</td>\n",
       "      <td>-0.225044</td>\n",
       "      <td>2.841905</td>\n",
       "      <td>-0.99355</td>\n",
       "      <td>-1.291288</td>\n",
       "    </tr>\n",
       "    <tr>\n",
       "      <th>1</th>\n",
       "      <td>-0.485349</td>\n",
       "      <td>0.011818</td>\n",
       "      <td>0.568870</td>\n",
       "      <td>-0.148768</td>\n",
       "      <td>1.267114</td>\n",
       "      <td>0.460084</td>\n",
       "      <td>0.976798</td>\n",
       "      <td>0.705092</td>\n",
       "      <td>-0.577962</td>\n",
       "      <td>2.905575</td>\n",
       "      <td>-0.99355</td>\n",
       "      <td>0.724101</td>\n",
       "    </tr>\n",
       "    <tr>\n",
       "      <th>2</th>\n",
       "      <td>-1.420161</td>\n",
       "      <td>-0.198153</td>\n",
       "      <td>-1.083259</td>\n",
       "      <td>0.129739</td>\n",
       "      <td>-1.068933</td>\n",
       "      <td>-1.417154</td>\n",
       "      <td>0.668764</td>\n",
       "      <td>0.653128</td>\n",
       "      <td>-0.089306</td>\n",
       "      <td>2.778234</td>\n",
       "      <td>-0.99355</td>\n",
       "      <td>0.612135</td>\n",
       "    </tr>\n",
       "    <tr>\n",
       "      <th>3</th>\n",
       "      <td>-0.027019</td>\n",
       "      <td>-0.024699</td>\n",
       "      <td>-0.394872</td>\n",
       "      <td>0.470671</td>\n",
       "      <td>-0.348798</td>\n",
       "      <td>1.803275</td>\n",
       "      <td>0.822781</td>\n",
       "      <td>0.809022</td>\n",
       "      <td>-0.197896</td>\n",
       "      <td>1.377488</td>\n",
       "      <td>-0.99355</td>\n",
       "      <td>0.724101</td>\n",
       "    </tr>\n",
       "    <tr>\n",
       "      <th>4</th>\n",
       "      <td>-0.680480</td>\n",
       "      <td>-0.179895</td>\n",
       "      <td>1.119580</td>\n",
       "      <td>-0.590539</td>\n",
       "      <td>0.406465</td>\n",
       "      <td>0.537707</td>\n",
       "      <td>1.361841</td>\n",
       "      <td>-0.022415</td>\n",
       "      <td>-1.392390</td>\n",
       "      <td>2.820681</td>\n",
       "      <td>-0.99355</td>\n",
       "      <td>0.724101</td>\n",
       "    </tr>\n",
       "  </tbody>\n",
       "</table>\n",
       "</div>"
      ],
      "text/plain": [
       "   Elevation    Aspect     Slope  Horizontal_Distance_To_Hydrology  \\\n",
       "0  -0.399128 -0.134249 -0.670227                         -0.023920   \n",
       "1  -0.485349  0.011818  0.568870                         -0.148768   \n",
       "2  -1.420161 -0.198153 -1.083259                          0.129739   \n",
       "3  -0.027019 -0.024699 -0.394872                          0.470671   \n",
       "4  -0.680480 -0.179895  1.119580                         -0.590539   \n",
       "\n",
       "   Vertical_Distance_To_Hydrology  Horizontal_Distance_To_Roadways  \\\n",
       "0                        0.336208                         0.515973   \n",
       "1                        1.267114                         0.460084   \n",
       "2                       -1.068933                        -1.417154   \n",
       "3                       -0.348798                         1.803275   \n",
       "4                        0.406465                         0.537707   \n",
       "\n",
       "   Hillshade_9am  Hillshade_Noon  Hillshade_3pm  \\\n",
       "0       0.822781        0.705092      -0.225044   \n",
       "1       0.976798        0.705092      -0.577962   \n",
       "2       0.668764        0.653128      -0.089306   \n",
       "3       0.822781        0.809022      -0.197896   \n",
       "4       1.361841       -0.022415      -1.392390   \n",
       "\n",
       "   Horizontal_Distance_To_Fire_Points  Wilderness_Area  Soil_Type  \n",
       "0                            2.841905         -0.99355  -1.291288  \n",
       "1                            2.905575         -0.99355   0.724101  \n",
       "2                            2.778234         -0.99355   0.612135  \n",
       "3                            1.377488         -0.99355   0.724101  \n",
       "4                            2.820681         -0.99355   0.724101  "
      ]
     },
     "execution_count": 30,
     "metadata": {},
     "output_type": "execute_result"
    }
   ],
   "source": [
    "df_feature.head()"
   ]
  },
  {
   "cell_type": "markdown",
   "metadata": {},
   "source": [
    "# Create helper functions"
   ]
  },
  {
   "cell_type": "code",
   "execution_count": 31,
   "metadata": {},
   "outputs": [],
   "source": [
    "## evaluate function generates the classification report of the loaded model based on the list of x and y values\n",
    "\n",
    "def evaluate(x, y, threshold):\n",
    "    x = np.array(x)\n",
    "    y = np.ravel(y)\n",
    "    pred = (loaded_model.predict_proba(x)[:,1] >= threshold).astype(bool)\n",
    "    print(pd.crosstab(y, pred, rownames=['Actual'], colnames=['Predicted']))\n",
    "    print(classification_report(y, pred,digits=4))\n",
    "    return None;\n",
    "\n",
    "## Split the data to be 2-fold cross-validated\n",
    "kfold = StratifiedKFold(n_splits=2, random_state=42, shuffle=False)\n",
    "#randomforest model - hyperparameter tuning using grid search\n",
    "param_grid = {\n",
    "'max_depth': [11], 'max_features': [6],\n",
    "'min_samples_leaf': [3], 'min_samples_split': [3], 'n_estimators': [500]\n",
    "}# Create a base model\n",
    "param_grid = {'randomforestclassifier__' + key: param_grid[key] for key in param_grid}\n",
    "\n",
    "## generate_curves function creates ROC-AUC and PR-AUC curve of the loaded model and compare that wth the random classifier\n",
    "\n",
    "def generate_curves(filename_old, filename_new, X_test, y_test):   \n",
    "\n",
    "    f = plt.figure(figsize=(10,4))\n",
    "    ax1 = f.add_subplot(121)\n",
    "    loaded_model_old = pickle.load(open(filename_old, 'rb'))\n",
    "    loaded_model_new = pickle.load(open(filename_new, 'rb'))\n",
    "\n",
    "    test_prob_old = loaded_model_old.predict_proba(X_test)[:, 1]\n",
    "    test_prob_new = loaded_model_new.predict_proba(X_test)[:, 1]\n",
    "    \n",
    "    fpr_old, tpr_old, _ = roc_curve(y_test,  test_prob_old)\n",
    "    roc_auc_old = roc_auc_score(y_test,  test_prob_old)\n",
    "    ax1.plot([0, 1], [0, 1], linestyle='--',label ='random, auc = %.4f'% 0.5, c = 'blue')\n",
    "    ax1.plot(fpr_old, tpr_old ,label ='SMOTE-NC, auc = %.4f'% roc_auc_old, c= 'green')\n",
    "    \n",
    "    fpr_new, tpr_new, _ = roc_curve(y_test,  test_prob_new)\n",
    "    roc_auc_new = roc_auc_score(y_test,  test_prob_new)\n",
    "    ax1.plot(fpr_new, tpr_new ,label ='SMOTE-ENC, auc = %.4f'% roc_auc_new, c= 'red')\n",
    "    \n",
    "    ax1.legend(loc=4)\n",
    "\n",
    "    ax1.set_title('ROC curve' ,fontsize=16)\n",
    "    ax1.set_ylabel('True Positive Rate',fontsize=14)\n",
    "    ax1.set_xlabel('False Positive Rate',fontsize=14)\n",
    "\n",
    "    ax2 = f.add_subplot(122)\n",
    "    \n",
    "\n",
    "    precision_old, recall_old, _ = precision_recall_curve(y_test, test_prob_old)\n",
    "    precision_new, recall_new, _ = precision_recall_curve(y_test, test_prob_new)\n",
    "    \n",
    "    auc_score_old = auc(recall_old, precision_old)\n",
    "    auc_score_new = auc(recall_new, precision_new)\n",
    "    \n",
    "    random_auc = y_test.sum()/len(y_test)\n",
    "    \n",
    "    ax2.plot([0, 1], [random_auc, random_auc], linestyle='--', label ='random, auc = %.4f'% random_auc, c ='blue')\n",
    "    ax2.plot(recall_old, precision_old, label = 'SMOTE-NC, auc=%.4f'% auc_score_old, c = 'green')\n",
    "    ax2.plot(recall_new, precision_new, label = 'SMOTE-ENC, auc=%.4f'% auc_score_new, c = 'red')\n",
    "    \n",
    "    ax2.set_title('Precision Recall curve' ,fontsize=16)\n",
    "    ax2.set_ylabel('Precision', fontsize=14)\n",
    "    ax2.set_xlabel('Recall',fontsize=14)\n",
    "    ax2.legend(loc='best')\n",
    "    plt.show()\n",
    "    f.savefig(REPORTS / 'forest26_roc_prc.jpeg', bbox_inches='tight')\n",
    "    \n",
    "    return None;\n"
   ]
  },
  {
   "cell_type": "code",
   "execution_count": 32,
   "metadata": {},
   "outputs": [],
   "source": [
    "# Our New Proposed SMOTE Method\n",
    "from scipy import stats\n",
    "class MySMOTENC():\n",
    "    \n",
    "    def __init__(self, categorical_features):\n",
    "        self.categorical_features = categorical_features\n",
    "        \n",
    "    def chk_neighbors(self, nn_object, additional_neighbor):\n",
    "        if isinstance(nn_object, Integral):\n",
    "            return NearestNeighbors(n_neighbors=nn_object + additional_neighbor)\n",
    "        elif isinstance(nn_object, KNeighborsMixin):\n",
    "            return clone(nn_object)\n",
    "        else:\n",
    "            raise_isinstance_error(nn_name, [int, KNeighborsMixin], nn_object)     \n",
    "    \n",
    "    def generate_samples(self, X, nn_data, nn_num, rows, cols, steps, continuous_features_,):\n",
    "        rng = check_random_state(42)\n",
    "\n",
    "        diffs = nn_data[nn_num[rows, cols]] - X[rows]\n",
    "        if sparse.issparse(X):\n",
    "            sparse_func = type(X).__name__\n",
    "            steps = getattr(sparse, sparse_func)(steps)\n",
    "            X_new = X[rows] + steps.multiply(diffs)\n",
    "        else:\n",
    "            X_new = X[rows] + steps * diffs \n",
    "\n",
    "        X_new = (X_new.tolil() if sparse.issparse(X_new) else X_new)\n",
    "        # convert to dense array since scipy.sparse doesn't handle 3D\n",
    "        nn_data = (nn_data.toarray() if sparse.issparse(nn_data) else nn_data)\n",
    "\n",
    "        all_neighbors = nn_data[nn_num[rows]]\n",
    "\n",
    "        for idx in range(continuous_features_.size, X.shape[1]):\n",
    "            mode = stats.mode(all_neighbors[:, :, idx], axis = 1)[0]\n",
    "\n",
    "            X_new[:, idx] = np.ravel(mode)\n",
    "\n",
    "        return X_new\n",
    "    \n",
    "    def make_samples(self, X, y_dtype, y_type, nn_data, nn_num, n_samples, continuous_features_, step_size=1.0):\n",
    "        random_state = check_random_state(42)\n",
    "        samples_indices = random_state.randint(low=0, high=len(nn_num.flatten()), size=n_samples)    \n",
    "        steps = step_size * random_state.uniform(size=n_samples)[:, np.newaxis]\n",
    "        rows = np.floor_divide(samples_indices, nn_num.shape[1])\n",
    "        cols = np.mod(samples_indices, nn_num.shape[1])\n",
    "\n",
    "        X_new = self.generate_samples(X, nn_data, nn_num, rows, cols, steps, continuous_features_)\n",
    "        y_new = np.full(n_samples, fill_value=y_type, dtype=y_dtype)\n",
    "        \n",
    "        return X_new, y_new\n",
    "    \n",
    "    def cat_corr_pandas(self, X, target_df, target_column, target_value):\n",
    "    # X has categorical columns\n",
    "        categorical_columns = list(X.columns)\n",
    "        X = pd.concat([X, target_df], axis=1)\n",
    "\n",
    "        # filter X for target value\n",
    "        is_target = X.loc[:, target_column] == target_value\n",
    "        X_filtered = X.loc[is_target, :]\n",
    "\n",
    "        X_filtered.drop(target_column, axis=1, inplace=True)\n",
    "\n",
    "        # get columns in X\n",
    "        nrows = len(X)\n",
    "        encoded_dict_list = []\n",
    "        nan_dict = dict({})\n",
    "        c = 0\n",
    "        imb_ratio = len(X_filtered)/len(X)\n",
    "        OE_dict = {}\n",
    "        \n",
    "        for column in categorical_columns:\n",
    "            for level in list(X.loc[:, column].unique()):\n",
    "                \n",
    "                # filter rows where level is present\n",
    "                row_level_filter = X.loc[:, column] == level\n",
    "                rows_in_level = len(X.loc[row_level_filter, :])\n",
    "                \n",
    "                # number of rows in level where target is 1\n",
    "                O = len(X.loc[is_target & row_level_filter, :])\n",
    "                E = rows_in_level * imb_ratio\n",
    "                # Encoded value = chi, i.e. (observed - expected)/expected\n",
    "                ENC = (O - E) / E\n",
    "                OE_dict[level] = ENC\n",
    "                \n",
    "            encoded_dict_list.append(OE_dict)\n",
    "\n",
    "            X.loc[:, column] = X[column].map(OE_dict)\n",
    "            nan_idx_array = np.ravel(np.argwhere(np.isnan(X.loc[:, column])))\n",
    "            if len(nan_idx_array) > 0 :\n",
    "                nan_dict[c] = nan_idx_array\n",
    "            c = c + 1\n",
    "            X.loc[:, column].fillna(-1, inplace = True)\n",
    "                \n",
    "        X.drop(target_column, axis=1, inplace=True)\n",
    "        return X, encoded_dict_list, nan_dict\n",
    "\n",
    "    def fit_resample(self, X, y):\n",
    "        X_cat_encoded, encoded_dict_list, nan_dict = self.cat_corr_pandas(X.iloc[:,np.asarray(self.categorical_features)], y, target_column='Cover_Type', target_value=1)\n",
    "\n",
    "        X_cat_encoded = np.array(X_cat_encoded)\n",
    "        y = np.ravel(y)\n",
    "        X = np.array(X)\n",
    "\n",
    "        unique, counts = np.unique(y, return_counts=True)\n",
    "        target_stats = dict(zip(unique, counts))\n",
    "        n_sample_majority = max(target_stats.values())\n",
    "        class_majority = max(target_stats, key=target_stats.get)\n",
    "        sampling_strategy = {key: n_sample_majority - value for (key, value) in target_stats.items() if key != class_majority}\n",
    "\n",
    "        n_features_ = X.shape[1]\n",
    "        categorical_features = np.asarray(self.categorical_features)\n",
    "        if categorical_features.dtype.name == 'bool':\n",
    "            categorical_features_ = np.flatnonzero(categorical_features)\n",
    "        else:\n",
    "            if any([cat not in np.arange(n_features_) for cat in categorical_features]):\n",
    "                raise ValueError('Some of the categorical indices are out of range. Indices'\n",
    "                            ' should be between 0 and {}'.format(n_features_))\n",
    "            categorical_features_ = categorical_features\n",
    "\n",
    "        continuous_features_ = np.setdiff1d(np.arange(n_features_),categorical_features_)\n",
    "\n",
    "        target_stats = Counter(y)\n",
    "        class_minority = min(target_stats, key=target_stats.get)\n",
    "\n",
    "        X_continuous = X[:, continuous_features_]\n",
    "        X_continuous = check_array(X_continuous, accept_sparse=['csr', 'csc'])\n",
    "        X_minority = safe_indexing(X_continuous, np.flatnonzero(y == class_minority))\n",
    "\n",
    "        if sparse.issparse(X):\n",
    "            if X.format == 'csr':\n",
    "                _, var = sparsefuncs_fast.csr_mean_variance_axis0(X_minority)\n",
    "            else:\n",
    "                _, var = sparsefuncs_fast.csc_mean_variance_axis0(X_minority)\n",
    "        else:\n",
    "            var = X_minority.var(axis=0)\n",
    "        median_std_ = np.median(np.sqrt(var))\n",
    "\n",
    "        X_categorical = X[:, categorical_features_]\n",
    "        X_copy = np.hstack((X_continuous, X_categorical))\n",
    "        \n",
    "        X_cat_encoded = X_cat_encoded * median_std_\n",
    "        X_encoded = np.hstack((X_continuous, X_cat_encoded))\n",
    "        X_resampled = X_encoded.copy()\n",
    "        y_resampled = y.copy()\n",
    "\n",
    "\n",
    "        for class_sample, n_samples in sampling_strategy.items():\n",
    "            if n_samples == 0:\n",
    "                continue\n",
    "            target_class_indices = np.flatnonzero(y == class_sample)\n",
    "            X_class = safe_indexing(X_encoded, target_class_indices)\n",
    "            nn_k_ = self.chk_neighbors(5, 1)\n",
    "            nn_k_.fit(X_class)\n",
    "            nns = nn_k_.kneighbors(X_class, return_distance=False)[:, 1:]\n",
    "\n",
    "            X_new, y_new = self.make_samples(X_class, y.dtype, class_sample, X_class, nns, n_samples, continuous_features_, 1.0)\n",
    "            if sparse.issparse(X_new):\n",
    "                X_resampled = sparse.vstack([X_resampled, X_new])\n",
    "                sparse_func = 'tocsc' if X.format == 'csc' else 'tocsr'\n",
    "                X_resampled = getattr(X_resampled, sparse_func)()\n",
    "            else:\n",
    "                X_resampled = np.vstack((X_resampled, X_new))\n",
    "            y_resampled = np.hstack((y_resampled, y_new))\n",
    "\n",
    "        X_resampled_copy = X_resampled.copy()\n",
    "        i = 0\n",
    "        for col in range(continuous_features_.size, X.shape[1]):\n",
    "            encoded_dict = encoded_dict_list[i]\n",
    "            i = i + 1\n",
    "            for key, value in encoded_dict.items():\n",
    "                X_resampled_copy[:, col] = np.where(np.round(X_resampled_copy[:, col], 4) == np.round(value * median_std_, 4), key, X_resampled_copy[:, col])\n",
    "\n",
    "        for key, value in nan_dict.items():\n",
    "            for item in value:\n",
    "                X_resampled_copy[item, continuous_features_.size + key] = X_copy[item, continuous_features_.size + key]\n",
    "\n",
    "               \n",
    "        X_resampled = X_resampled_copy   \n",
    "        indices_reordered = np.argsort(np.hstack((continuous_features_, categorical_features_)))\n",
    "        if sparse.issparse(X_resampled):\n",
    "            col_indices = X_resampled.indices.copy()\n",
    "            for idx, col_idx in enumerate(indices_reordered):\n",
    "                mask = X_resampled.indices == col_idx\n",
    "                col_indices[mask] = idx\n",
    "            X_resampled.indices = col_indices\n",
    "        else:\n",
    "            X_resampled = X_resampled[:, indices_reordered]\n",
    "        return X_resampled, y_resampled"
   ]
  },
  {
   "cell_type": "code",
   "execution_count": 33,
   "metadata": {},
   "outputs": [
    {
     "name": "stdout",
     "output_type": "stream",
     "text": [
      "Fitting 2 folds for each of 1 candidates, totalling 2 fits\n"
     ]
    },
    {
     "name": "stderr",
     "output_type": "stream",
     "text": [
      "[Parallel(n_jobs=-1)]: Using backend LokyBackend with 12 concurrent workers.\n",
      "[Parallel(n_jobs=-1)]: Done   2 out of   2 | elapsed:  4.9min finished\n"
     ]
    }
   ],
   "source": [
    "## Apply the random-forest classifier along with the NEW SMOTE-ENC method\n",
    "\n",
    "filename = (MODELS / 'forest_mysmotenc_26.sav')\n",
    "samp_pipeline = make_pipeline(MySMOTENC(categorical_features = [10, 11]), \n",
    "                              RandomForestClassifier(random_state=42))\n",
    "# check model performance on different values of hyper-parameters.\n",
    "grid_search = GridSearchCV(samp_pipeline, param_grid=param_grid, cv=kfold, scoring='f1',\n",
    "                        return_train_score=True, n_jobs = -1, verbose = 2)\n",
    "grid_search.fit(df_feature, df_target)\n",
    "best_grid = grid_search.best_estimator_\n",
    "pickle.dump(best_grid, open(filename, 'wb'))"
   ]
  },
  {
   "cell_type": "code",
   "execution_count": 34,
   "metadata": {},
   "outputs": [
    {
     "name": "stdout",
     "output_type": "stream",
     "text": [
      "Fitting 2 folds for each of 1 candidates, totalling 2 fits\n"
     ]
    },
    {
     "name": "stderr",
     "output_type": "stream",
     "text": [
      "[Parallel(n_jobs=-1)]: Using backend LokyBackend with 12 concurrent workers.\n",
      "[Parallel(n_jobs=-1)]: Done   2 out of   2 | elapsed:  7.0min finished\n"
     ]
    }
   ],
   "source": [
    "## Apply the random-forest classifier along with the exsting SMOTE-NC method\n",
    "\n",
    "filename = (MODELS / 'forest_smotenc_26.sav')\n",
    "samp_pipeline = make_pipeline(SMOTENC(random_state=42, categorical_features = [10, 11]), \n",
    "                              RandomForestClassifier(random_state=42))\n",
    "# check model performance on different values of hyper-parameters.\n",
    "grid_search = GridSearchCV(samp_pipeline, param_grid=param_grid, cv=kfold, scoring='f1',\n",
    "                        return_train_score=True, n_jobs = -1, verbose = 2)\n",
    "grid_search.fit(df_feature, df_target)\n",
    "best_grid = grid_search.best_estimator_\n",
    "pickle.dump(best_grid, open(filename, 'wb'))"
   ]
  },
  {
   "cell_type": "code",
   "execution_count": 35,
   "metadata": {},
   "outputs": [
    {
     "name": "stdout",
     "output_type": "stream",
     "text": [
      "                RF performance Report\n",
      "Predicted   False  True \n",
      "Actual                  \n",
      "0          277448   5853\n",
      "1              27  17340\n",
      "              precision    recall  f1-score   support\n",
      "\n",
      "           0     0.9999    0.9793    0.9895    283301\n",
      "           1     0.7476    0.9984    0.8550     17367\n",
      "\n",
      "   micro avg     0.9804    0.9804    0.9804    300668\n",
      "   macro avg     0.8738    0.9889    0.9223    300668\n",
      "weighted avg     0.9853    0.9804    0.9817    300668\n",
      "\n"
     ]
    },
    {
     "data": {
      "text/plain": [
       "array([0.50877495, 0.01784696, 0.00535509, 0.01339436, 0.01020889,\n",
       "       0.04087845, 0.00889633, 0.00895134, 0.00565646, 0.02952876,\n",
       "       0.13863105, 0.21187735])"
      ]
     },
     "execution_count": 35,
     "metadata": {},
     "output_type": "execute_result"
    }
   ],
   "source": [
    "## Evaluate SMOTE-ENC performance on train and test set\n",
    "\n",
    "filename = (MODELS / 'forest_mysmotenc_26.sav')\n",
    "loaded_model = pickle.load(open(filename, 'rb'))\n",
    "threshold = 0.5\n",
    "print('                RF performance Report')\n",
    "evaluate(df_feature, df_target, threshold)\n",
    "# evaluate(df_test_feature, df_test_target, threshold)\n",
    "loaded_model.steps[1][1].feature_importances_"
   ]
  },
  {
   "cell_type": "code",
   "execution_count": 36,
   "metadata": {},
   "outputs": [
    {
     "name": "stdout",
     "output_type": "stream",
     "text": [
      "                RF performance Report\n",
      "Predicted   False  True \n",
      "Actual                  \n",
      "0          277450   5851\n",
      "1              32  17335\n",
      "              precision    recall  f1-score   support\n",
      "\n",
      "           0     0.9999    0.9793    0.9895    283301\n",
      "           1     0.7476    0.9982    0.8549     17367\n",
      "\n",
      "   micro avg     0.9804    0.9804    0.9804    300668\n",
      "   macro avg     0.8738    0.9888    0.9222    300668\n",
      "weighted avg     0.9853    0.9804    0.9817    300668\n",
      "\n"
     ]
    },
    {
     "data": {
      "text/plain": [
       "array([0.51455565, 0.0156545 , 0.00544395, 0.01182819, 0.0097234 ,\n",
       "       0.04173966, 0.01071851, 0.00945123, 0.00569184, 0.03001943,\n",
       "       0.14158563, 0.20358801])"
      ]
     },
     "execution_count": 36,
     "metadata": {},
     "output_type": "execute_result"
    }
   ],
   "source": [
    "## Evaluate SMOTE-NC performance on train and test set\n",
    "filename = (MODELS / 'forest_smotenc_26.sav')\n",
    "loaded_model = pickle.load(open(filename, 'rb'))\n",
    "threshold = 0.5\n",
    "print('                RF performance Report')\n",
    "evaluate(df_feature, df_target, threshold)\n",
    "# evaluate(df_test_feature, df_test_target, threshold)\n",
    "loaded_model.steps[1][1].feature_importances_"
   ]
  },
  {
   "cell_type": "code",
   "execution_count": 37,
   "metadata": {},
   "outputs": [
    {
     "data": {
      "image/png": "[encoded data removed]",
      "text/plain": [
       "<Figure size 720x288 with 2 Axes>"
      ]
     },
     "metadata": {
      "needs_background": "light"
     },
     "output_type": "display_data"
    }
   ],
   "source": [
    "##Create ROC-AUC and PR-AUC curve\n",
    "generate_curves(MODELS / 'forest_smotenc_26.sav', MODELS / 'forest_mysmotenc_26.sav', df_feature, df_target)"
   ]
  },
  {
   "cell_type": "code",
   "execution_count": 38,
   "metadata": {},
   "outputs": [
    {
     "data": {
      "text/plain": [
       "<Figure size 720x720 with 0 Axes>"
      ]
     },
     "metadata": {},
     "output_type": "display_data"
    },
    {
     "data": {
      "image/png": "[encoded data removed]",
      "text/plain": [
       "<Figure size 432x288 with 1 Axes>"
      ]
     },
     "metadata": {
      "needs_background": "light"
     },
     "output_type": "display_data"
    }
   ],
   "source": [
    "## Find out top 4 most important features using our new SMOTE-ENC method\n",
    "filename = (MODELS / 'forest_mysmotenc_26.sav')\n",
    "loaded_model = pickle.load(open(filename, 'rb'))\n",
    "var_imp = (pd.Series(loaded_model.steps[1][1].feature_importances_, index=df_feature.columns).nlargest(15))\n",
    "var_imp_df = var_imp.reset_index()\n",
    "var_imp_df.columns = ['Feature', 'Imp using SMOTE-ENC']\n",
    "var_imp_df.set_index('Feature', inplace=True)\n",
    "\n",
    "plt.figure(figsize=(10, 10))\n",
    "rcParams.update({'figure.autolayout': True})\n",
    "var_imp_df.plot(kind='barh').invert_yaxis()\n",
    "plt.savefig(REPORTS / 'forest26_newsmote.jpeg', bbox_inches='tight')"
   ]
  },
  {
   "cell_type": "code",
   "execution_count": 39,
   "metadata": {},
   "outputs": [
    {
     "data": {
      "text/plain": [
       "<Figure size 720x720 with 0 Axes>"
      ]
     },
     "metadata": {},
     "output_type": "display_data"
    },
    {
     "data": {
      "image/png": "[encoded data removed]",
      "text/plain": [
       "<Figure size 432x288 with 1 Axes>"
      ]
     },
     "metadata": {
      "needs_background": "light"
     },
     "output_type": "display_data"
    }
   ],
   "source": [
    "## Find out top 4 most important features using existing SMOTE-NC method\n",
    "filename = (MODELS / 'forest_smotenc_26.sav')\n",
    "loaded_model = pickle.load(open(filename, 'rb'))\n",
    "var_imp = (pd.Series(loaded_model.steps[1][1].feature_importances_, index=df_feature.columns).nlargest(15))\n",
    "var_imp_df = var_imp.reset_index()\n",
    "var_imp_df.columns = ['Feature', 'Imp using SMOTE-NC']\n",
    "var_imp_df.set_index('Feature', inplace=True)\n",
    "\n",
    "plt.figure(figsize=(10, 10))\n",
    "rcParams.update({'figure.autolayout': True})\n",
    "var_imp_df.plot(kind='barh').invert_yaxis()\n",
    "plt.savefig(REPORTS / 'forest26_oldsmote.jpeg', bbox_inches='tight')"
   ]
  },
  {
   "cell_type": "code",
   "execution_count": 41,
   "metadata": {},
   "outputs": [],
   "source": [
    "filename = (MODELS / 'forest_mysmotenc_26.sav')\n",
    "model1 = pickle.load(open(filename, 'rb'))\n",
    "\n",
    "filename = (MODELS / 'forest_smotenc_26.sav')\n",
    "model2 = pickle.load(open(filename, 'rb'))\n",
    "\n",
    "for scoring in ('precision', 'precision_micro', 'precision_macro', 'precision_weighted',\n",
    "                'f1', 'f1_micro', 'f1_macro', 'f1_weighted', \n",
    "                'recall', 'recall_macro', 'recall_micro', 'recall_weighted'):\n",
    "    \n",
    "    cv_scoremodel1 = cross_val_score(model1, df_feature, df_target, cv=kfold, scoring = scoring)\n",
    "    cv_scoremodel2 = cross_val_score(model2, df_feature, df_target, cv=kfold, scoring = scoring)\n",
    "    t, p = stats.ttest_ind(cv_scoremodel1, cv_scoremodel2, equal_var = True)\n",
    "    print(scoring, t, p)\n",
    "    "
   ]
  },
  {
   "cell_type": "code",
   "execution_count": null,
   "metadata": {},
   "outputs": [],
   "source": []
  }
 ],
 "metadata": {
  "kernelspec": {
   "display_name": "Python (SMOTE_ENC)",
   "language": "python",
   "name": "smote_enc"
  },
  "language_info": {
   "codemirror_mode": {
    "name": "ipython",
    "version": 3
   },
   "file_extension": ".py",
   "mimetype": "text/x-python",
   "name": "python",
   "nbconvert_exporter": "python",
   "pygments_lexer": "ipython3",
   "version": "3.6.8"
  }
 },
 "nbformat": 4,
 "nbformat_minor": 2
}
